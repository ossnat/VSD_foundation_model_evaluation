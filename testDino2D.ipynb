{
  "nbformat": 4,
  "nbformat_minor": 0,
  "metadata": {
    "colab": {
      "provenance": [],
      "authorship_tag": "ABX9TyNWK91dS0UggBU/FfU62eu4",
      "include_colab_link": true
    },
    "kernelspec": {
      "name": "python3",
      "display_name": "Python 3"
    },
    "language_info": {
      "name": "python"
    }
  },
  "cells": [
    {
      "cell_type": "markdown",
      "metadata": {
        "id": "view-in-github",
        "colab_type": "text"
      },
      "source": [
        "<a href=\"https://colab.research.google.com/github/ossnat/VSD_foundation_model_evaluation/blob/main/testDino2D.ipynb\" target=\"_parent\"><img src=\"https://colab.research.google.com/assets/colab-badge.svg\" alt=\"Open In Colab\"/></a>"
      ]
    },
    {
      "cell_type": "code",
      "execution_count": null,
      "metadata": {
        "colab": {
          "base_uri": "https://localhost:8080/"
        },
        "id": "Ig6lBYZQWD0a",
        "outputId": "75ea1990-feff-4928-fae5-8b61715b8d0b"
      },
      "outputs": [
        {
          "output_type": "stream",
          "name": "stdout",
          "text": [
            "Requirement already satisfied: torch in /usr/local/lib/python3.12/dist-packages (2.8.0+cu126)\n",
            "Requirement already satisfied: torchvision in /usr/local/lib/python3.12/dist-packages (0.23.0+cu126)\n",
            "Requirement already satisfied: transformers in /usr/local/lib/python3.12/dist-packages (4.56.1)\n",
            "Requirement already satisfied: filelock in /usr/local/lib/python3.12/dist-packages (from torch) (3.19.1)\n",
            "Requirement already satisfied: typing-extensions>=4.10.0 in /usr/local/lib/python3.12/dist-packages (from torch) (4.15.0)\n",
            "Requirement already satisfied: setuptools in /usr/local/lib/python3.12/dist-packages (from torch) (75.2.0)\n",
            "Requirement already satisfied: sympy>=1.13.3 in /usr/local/lib/python3.12/dist-packages (from torch) (1.13.3)\n",
            "Requirement already satisfied: networkx in /usr/local/lib/python3.12/dist-packages (from torch) (3.5)\n",
            "Requirement already satisfied: jinja2 in /usr/local/lib/python3.12/dist-packages (from torch) (3.1.6)\n",
            "Requirement already satisfied: fsspec in /usr/local/lib/python3.12/dist-packages (from torch) (2025.3.0)\n",
            "Requirement already satisfied: nvidia-cuda-nvrtc-cu12==12.6.77 in /usr/local/lib/python3.12/dist-packages (from torch) (12.6.77)\n",
            "Requirement already satisfied: nvidia-cuda-runtime-cu12==12.6.77 in /usr/local/lib/python3.12/dist-packages (from torch) (12.6.77)\n",
            "Requirement already satisfied: nvidia-cuda-cupti-cu12==12.6.80 in /usr/local/lib/python3.12/dist-packages (from torch) (12.6.80)\n",
            "Requirement already satisfied: nvidia-cudnn-cu12==9.10.2.21 in /usr/local/lib/python3.12/dist-packages (from torch) (9.10.2.21)\n",
            "Requirement already satisfied: nvidia-cublas-cu12==12.6.4.1 in /usr/local/lib/python3.12/dist-packages (from torch) (12.6.4.1)\n",
            "Requirement already satisfied: nvidia-cufft-cu12==11.3.0.4 in /usr/local/lib/python3.12/dist-packages (from torch) (11.3.0.4)\n",
            "Requirement already satisfied: nvidia-curand-cu12==10.3.7.77 in /usr/local/lib/python3.12/dist-packages (from torch) (10.3.7.77)\n",
            "Requirement already satisfied: nvidia-cusolver-cu12==11.7.1.2 in /usr/local/lib/python3.12/dist-packages (from torch) (11.7.1.2)\n",
            "Requirement already satisfied: nvidia-cusparse-cu12==12.5.4.2 in /usr/local/lib/python3.12/dist-packages (from torch) (12.5.4.2)\n",
            "Requirement already satisfied: nvidia-cusparselt-cu12==0.7.1 in /usr/local/lib/python3.12/dist-packages (from torch) (0.7.1)\n",
            "Requirement already satisfied: nvidia-nccl-cu12==2.27.3 in /usr/local/lib/python3.12/dist-packages (from torch) (2.27.3)\n",
            "Requirement already satisfied: nvidia-nvtx-cu12==12.6.77 in /usr/local/lib/python3.12/dist-packages (from torch) (12.6.77)\n",
            "Requirement already satisfied: nvidia-nvjitlink-cu12==12.6.85 in /usr/local/lib/python3.12/dist-packages (from torch) (12.6.85)\n",
            "Requirement already satisfied: nvidia-cufile-cu12==1.11.1.6 in /usr/local/lib/python3.12/dist-packages (from torch) (1.11.1.6)\n",
            "Requirement already satisfied: triton==3.4.0 in /usr/local/lib/python3.12/dist-packages (from torch) (3.4.0)\n",
            "Requirement already satisfied: numpy in /usr/local/lib/python3.12/dist-packages (from torchvision) (2.0.2)\n",
            "Requirement already satisfied: pillow!=8.3.*,>=5.3.0 in /usr/local/lib/python3.12/dist-packages (from torchvision) (11.3.0)\n",
            "Requirement already satisfied: huggingface-hub<1.0,>=0.34.0 in /usr/local/lib/python3.12/dist-packages (from transformers) (0.35.0)\n",
            "Requirement already satisfied: packaging>=20.0 in /usr/local/lib/python3.12/dist-packages (from transformers) (25.0)\n",
            "Requirement already satisfied: pyyaml>=5.1 in /usr/local/lib/python3.12/dist-packages (from transformers) (6.0.2)\n",
            "Requirement already satisfied: regex!=2019.12.17 in /usr/local/lib/python3.12/dist-packages (from transformers) (2024.11.6)\n",
            "Requirement already satisfied: requests in /usr/local/lib/python3.12/dist-packages (from transformers) (2.32.4)\n",
            "Requirement already satisfied: tokenizers<=0.23.0,>=0.22.0 in /usr/local/lib/python3.12/dist-packages (from transformers) (0.22.0)\n",
            "Requirement already satisfied: safetensors>=0.4.3 in /usr/local/lib/python3.12/dist-packages (from transformers) (0.6.2)\n",
            "Requirement already satisfied: tqdm>=4.27 in /usr/local/lib/python3.12/dist-packages (from transformers) (4.67.1)\n",
            "Requirement already satisfied: hf-xet<2.0.0,>=1.1.3 in /usr/local/lib/python3.12/dist-packages (from huggingface-hub<1.0,>=0.34.0->transformers) (1.1.10)\n",
            "Requirement already satisfied: mpmath<1.4,>=1.1.0 in /usr/local/lib/python3.12/dist-packages (from sympy>=1.13.3->torch) (1.3.0)\n",
            "Requirement already satisfied: MarkupSafe>=2.0 in /usr/local/lib/python3.12/dist-packages (from jinja2->torch) (3.0.2)\n",
            "Requirement already satisfied: charset_normalizer<4,>=2 in /usr/local/lib/python3.12/dist-packages (from requests->transformers) (3.4.3)\n",
            "Requirement already satisfied: idna<4,>=2.5 in /usr/local/lib/python3.12/dist-packages (from requests->transformers) (3.10)\n",
            "Requirement already satisfied: urllib3<3,>=1.21.1 in /usr/local/lib/python3.12/dist-packages (from requests->transformers) (2.5.0)\n",
            "Requirement already satisfied: certifi>=2017.4.17 in /usr/local/lib/python3.12/dist-packages (from requests->transformers) (2025.8.3)\n"
          ]
        }
      ],
      "source": [
        "!pip install torch torchvision transformers\n",
        "\n",
        "import torch\n",
        "import torch.nn as nn\n",
        "import torch.nn.functional as F\n",
        "import numpy as np\n",
        "from transformers import AutoModel\n",
        "\n",
        "# ------------------------\n",
        "# Preprocess function (your code with resize)\n",
        "# ------------------------\n",
        "def preprocess_vsd_clip(clip, model_name):\n",
        "    \"\"\"\n",
        "    clip: torch.Tensor or np.ndarray with shape [T, C, H, W] or [T, H, W]\n",
        "    \"\"\"\n",
        "    # Convert numpy array to torch tensor if necessary\n",
        "    if isinstance(clip, np.ndarray):\n",
        "        clip = torch.from_numpy(clip)\n",
        "\n",
        "    clip = clip.float()\n",
        "\n",
        "    # If missing channel dim → add one\n",
        "    if clip.ndim == 3:  # [T, H, W]\n",
        "        clip = clip.unsqueeze(1)  # → [T, 1, H, W]\n",
        "    elif clip.ndim == 2:  # [H, W], single frame\n",
        "        clip = clip.unsqueeze(0).unsqueeze(0)  # → [1, 1, H, W]\n",
        "\n",
        "    # Now guaranteed [T, C, H, W]\n",
        "\n",
        "    if \"dino\" in model_name.lower():\n",
        "        if clip.shape[1] == 1:\n",
        "            clip = clip.repeat(1, 3, 1, 1)  # → [T, 3, H, W]\n",
        "        clip = F.interpolate(clip, size=(224, 224), mode=\"bilinear\", align_corners=False)\n",
        "\n",
        "    elif \"resnet\" in model_name.lower():\n",
        "        if clip.shape[1] == 1:\n",
        "            clip = clip.repeat(1, 3, 1, 1)\n",
        "        clip = F.interpolate(clip, size=(224, 224), mode=\"bilinear\", align_corners=False)\n",
        "\n",
        "    return clip\n",
        "\n",
        "# ------------------------\n",
        "# Simple Dino2D Backbone wrapper\n",
        "# ------------------------\n",
        "class Dino2DBackbone(nn.Module):\n",
        "    def __init__(self, model_name=\"facebook/dinov2-base\", num_classes=2, freeze_backbone=True):\n",
        "        super().__init__()\n",
        "        self.backbone = AutoModel.from_pretrained(model_name)\n",
        "        hidden_dim = self.backbone.config.hidden_size\n",
        "\n",
        "        if freeze_backbone:\n",
        "            for p in self.backbone.parameters():\n",
        "                p.requires_grad = False\n",
        "\n",
        "        # Simple linear classifier\n",
        "        self.fc = nn.Linear(hidden_dim, num_classes)\n",
        "\n",
        "    def forward(self, x):\n",
        "        \"\"\"\n",
        "        x: [B, T, C, H, W]\n",
        "        \"\"\"\n",
        "        B, T, C, H, W = x.shape\n",
        "        x = x.view(B * T, C, H, W)  # flatten time\n",
        "\n",
        "        # forward backbone\n",
        "        features = self.backbone(x).last_hidden_state[:, 0]  # CLS token\n",
        "        features = features.view(B, T, -1)  # [B, T, hidden]\n",
        "\n",
        "        # simple mean pooling over time\n",
        "        pooled = features.mean(dim=1)  # [B, hidden]\n",
        "        out = self.fc(pooled)\n",
        "        return out\n",
        "\n"
      ]
    },
    {
      "cell_type": "code",
      "source": [
        "# Create a random mock clip: 8 frames, grayscale, 64x64\n",
        "mock_clip = torch.randn(8, 64, 64)  # [T, H, W]\n",
        "\n",
        "# Preprocess\n",
        "processed = preprocess_vsd_clip(mock_clip, \"dino\")\n",
        "print(\"Processed shape:\", processed.shape)  # [T, 3, 224, 224]\n",
        "\n",
        "# Add batch dim\n",
        "batch = processed.unsqueeze(0)  # [1, T, 3, 224, 224]\n",
        "\n",
        "# Model\n",
        "model = Dino2DBackbone(num_classes=2, freeze_backbone=True)\n",
        "\n",
        "# Forward\n",
        "logits = model(batch)\n",
        "print(\"Output logits shape:\", logits.shape)  # [1, 2]\n",
        "\n",
        "# Check trainable params\n",
        "trainable = sum(p.numel() for p in model.parameters() if p.requires_grad)\n",
        "frozen = sum(p.numel() for p in model.parameters() if not p.requires_grad)\n",
        "print(f\"Trainable params: {trainable}, Frozen params: {frozen}\")"
      ],
      "metadata": {
        "id": "7RlgpUtfWJ_J"
      },
      "execution_count": null,
      "outputs": []
    }
  ]
}